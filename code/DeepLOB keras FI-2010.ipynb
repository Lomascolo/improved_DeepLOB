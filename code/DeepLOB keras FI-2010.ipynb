{
 "cells": [
  {
   "cell_type": "markdown",
   "metadata": {},
   "source": [
    "## Replicate - DeepLOB: Deep Convolutional Neural Networks for Limit Order Books\n",
    "(Paper authors: Zihao Zhang, Stefan Zohren, Stephen Roberts)\n",
    "\n",
    "Dataset source: https://drive.google.com/drive/folders/1Xen3aRid9ZZhFqJRgEMyETNazk02cNmv?usp=sharing"
   ]
  },
  {
   "cell_type": "code",
   "execution_count": 1,
   "metadata": {},
   "outputs": [
    {
     "name": "stdout",
     "output_type": "stream",
     "text": [
      "1 Physical GPUs, 1 Logical GPUs\n"
     ]
    }
   ],
   "source": [
    "\n",
    "# limit gpu memory\n",
    "\n",
    "import tensorflow as tf\n",
    "\n",
    "gpus = tf.config.experimental.list_physical_devices('GPU')\n",
    "if gpus:\n",
    "    try:\n",
    "    # Currently, memory growth needs to be the same across GPUs\n",
    "        for gpu in gpus:\n",
    "            tf.config.experimental.set_memory_growth(gpu, True)\n",
    "            logical_gpus = tf.config.experimental.list_logical_devices('GPU')\n",
    "        print(len(gpus), \"Physical GPUs,\", len(logical_gpus), \"Logical GPUs\")\n",
    "    except RuntimeError as e:\n",
    "    # Memory growth must be set before GPUs have been initialized\n",
    "        print(e)"
   ]
  },
  {
   "cell_type": "code",
   "execution_count": 2,
   "metadata": {},
   "outputs": [
    {
     "name": "stderr",
     "output_type": "stream",
     "text": [
      "Using TensorFlow backend.\n"
     ]
    }
   ],
   "source": [
    "# import libraries\n",
    "import pandas as pd\n",
    "import numpy as np\n",
    "from matplotlib import pyplot as plt\n",
    "\n",
    "from keras.utils import np_utils\n",
    "from tensorflow.keras.models import Model\n",
    "from tensorflow.keras.optimizers import Adam\n",
    "from tensorflow.keras.layers import Input, Conv2D, LeakyReLU, MaxPooling2D, concatenate, LSTM, Reshape, Dense, GlobalAveragePooling1D\n",
    "from tensorflow.keras.callbacks import EarlyStopping\n",
    "from Transformer import Encoder"
   ]
  },
  {
   "cell_type": "code",
   "execution_count": 3,
   "metadata": {},
   "outputs": [],
   "source": [
    "# set random seeds\n",
    "np.random.seed(1)\n",
    "tf.random.set_seed(2)"
   ]
  },
  {
   "cell_type": "markdown",
   "metadata": {},
   "source": [
    "# Data preparation\n",
    "\n",
    "The first 40 columns of the FI-2010 dataset are 10 levels ask and bid information for a limit order book and we only use these 40 features in our network. The last 5 columns of the FI-2010 dataset are the labels with different prediction horizons. "
   ]
  },
  {
   "cell_type": "code",
   "execution_count": 4,
   "metadata": {},
   "outputs": [],
   "source": [
    "train_fi = np.loadtxt('../data/Train_Dst_NoAuction_DecPre_CF_7.txt')\n",
    "\n",
    "test_fi_1 = np.loadtxt('../data/Test_Dst_NoAuction_DecPre_CF_7.txt')\n",
    "test_fi_2 = np.loadtxt('../data/Test_Dst_NoAuction_DecPre_CF_8.txt')\n",
    "test_fi_3 = np.loadtxt('../data/Test_Dst_NoAuction_DecPre_CF_9.txt')\n",
    "test_fi = np.hstack((test_fi_1, test_fi_2, test_fi_3))"
   ]
  },
  {
   "cell_type": "code",
   "execution_count": 5,
   "metadata": {},
   "outputs": [],
   "source": [
    "def extract_x_y_data(data, timestamp_per_sample):\n",
    "    data_x = np.array(data[:40, :].T)\n",
    "    data_y = np.array(data[-5:, :].T)\n",
    "    [N, P_x] = data_x.shape\n",
    "#     P_y = data_y.shape[1]\n",
    "    \n",
    "    x = np.zeros([(N-timestamp_per_sample+1), timestamp_per_sample, P_x])\n",
    "    \n",
    "    for i in range(N-timestamp_per_sample+1):\n",
    "        x[i] = data_x[i:(i+timestamp_per_sample), :]\n",
    "        \n",
    "    x = x.reshape(x.shape + (1,))\n",
    "        \n",
    "    y = data_y[(timestamp_per_sample-1):]\n",
    "    y = y[:,3] - 1\n",
    "    y = np_utils.to_categorical(y, 3)\n",
    "    \n",
    "    return x, y\n",
    "\n",
    "train_fi_x, train_fi_y = extract_x_y_data(train_fi, timestamp_per_sample=100)\n",
    "test_fi_x, test_fi_y = extract_x_y_data(test_fi, timestamp_per_sample=100)"
   ]
  },
  {
   "cell_type": "code",
   "execution_count": 6,
   "metadata": {},
   "outputs": [
    {
     "data": {
      "text/plain": [
       "(254651, 100, 40, 1)"
      ]
     },
     "execution_count": 6,
     "metadata": {},
     "output_type": "execute_result"
    }
   ],
   "source": [
    "train_fi_x.shape"
   ]
  },
  {
   "cell_type": "code",
   "execution_count": 7,
   "metadata": {},
   "outputs": [
    {
     "data": {
      "text/plain": [
       "(254651, 3)"
      ]
     },
     "execution_count": 7,
     "metadata": {},
     "output_type": "execute_result"
    }
   ],
   "source": [
    "train_fi_y.shape"
   ]
  },
  {
   "cell_type": "code",
   "execution_count": 8,
   "metadata": {},
   "outputs": [
    {
     "data": {
      "text/plain": [
       "(139488, 100, 40, 1)"
      ]
     },
     "execution_count": 8,
     "metadata": {},
     "output_type": "execute_result"
    }
   ],
   "source": [
    "test_fi_x.shape"
   ]
  },
  {
   "cell_type": "code",
   "execution_count": 9,
   "metadata": {},
   "outputs": [
    {
     "data": {
      "text/plain": [
       "(139488, 3)"
      ]
     },
     "execution_count": 9,
     "metadata": {},
     "output_type": "execute_result"
    }
   ],
   "source": [
    "test_fi_y.shape"
   ]
  },
  {
   "cell_type": "code",
   "execution_count": null,
   "metadata": {},
   "outputs": [],
   "source": [
    "train_fi_x3, train_fi_y3, test_fi_x3, test_fi_y3 = train_fi_x[:100000,:,:,:], train_fi_y[:100000,:], test_fi_x[:20000,:], test_fi_y[:20000,:]"
   ]
  },
  {
   "cell_type": "markdown",
   "metadata": {},
   "source": [
    "#### Hypter Parameters"
   ]
  },
  {
   "cell_type": "code",
   "execution_count": 16,
   "metadata": {},
   "outputs": [],
   "source": [
    "lookback_timestep = 100\n",
    "feature_num = 40\n",
    "\n",
    "#Conv param\n",
    "conv_filter_num = 16\n",
    "\n",
    "#Inception module param\n",
    "inception_num = 32\n",
    "\n",
    "#LSTM param\n",
    "LSTM_num = 64\n",
    "\n",
    "#Activation param\n",
    "leaky_relu_alpha = 0.01\n"
   ]
  },
  {
   "cell_type": "markdown",
   "metadata": {},
   "source": [
    "#### Training Hyper Params"
   ]
  },
  {
   "cell_type": "code",
   "execution_count": 17,
   "metadata": {},
   "outputs": [],
   "source": [
    "# categorical crossentropy loss\n",
    "loss = 'categorical_crossentropy'\n",
    "\n",
    "# ADAM is used\n",
    "learning_rate = 1e-2\n",
    "adam_epsilon = 1\n",
    "optimizer = Adam(lr=learning_rate, epsilon=1)\n",
    "\n",
    "# accuracy is used for stopping training\n",
    "metrics = ['accuracy']\n",
    "\n",
    "#max epoch num is not specified in paper, use 120 because paper mentions training stops at about 100 epochs\n",
    "num_epoch = 200\n",
    "#stop training when validation accuracy does not improve for 20 epochs\n",
    "stop_epoch_num = 20\n",
    "#mini-batch size 32 from paper\n",
    "batch_size = 32\n"
   ]
  },
  {
   "cell_type": "markdown",
   "metadata": {},
   "source": [
    "#### Inception module\n",
    "\n",
    "we split the input into a small set of lowerdimensional representations by using 1 × 1 convolutions, transform the representations by a set of filters, here 3 × 1 and 5 × 1, and then merge the outputs. A max-pooling layer is used inside the Inception Module, with stride 1 and zero padding. “Inception@32” represents one module and indicates all convolutional layers have 32 filters in this module, and the approach is depicted schematically in Figure 4"
   ]
  },
  {
   "cell_type": "code",
   "execution_count": 18,
   "metadata": {},
   "outputs": [],
   "source": [
    "\n",
    "def initiate_DeepLOB_model(lookback_timestep, feature_num, conv_filter_num, inception_num, LSTM_num, leaky_relu_alpha,\n",
    "                          loss, optimizer, metrics):\n",
    "    \n",
    "    input_tensor = Input(shape=(lookback_timestep, feature_num, 1))\n",
    "    \n",
    "    # Conv block1\n",
    "    print(input_tensor.shape)\n",
    "    conv_layer1 = Conv2D(conv_filter_num, (1,2), strides=(1, 2))(input_tensor)\n",
    "    print(conv_layer1.shape)\n",
    "    conv_layer1 =LeakyReLU(alpha=leaky_relu_alpha)(conv_layer1)\n",
    "    print(conv_layer1.shape)\n",
    "    conv_layer1 = Conv2D(conv_filter_num, (4,1), padding='same')(conv_layer1)\n",
    "    conv_first1 = LeakyReLU(alpha=leaky_relu_alpha)(conv_layer1)\n",
    "    print(conv_layer1.shape)\n",
    "    conv_layer1 = Conv2D(conv_filter_num, (4,1), padding='same')(conv_layer1)\n",
    "    conv_layer1 = LeakyReLU(alpha=leaky_relu_alpha)(conv_layer1)\n",
    "    print(conv_layer1.shape)\n",
    "\n",
    "    # Conv block2\n",
    "    conv_layer2 = Conv2D(conv_filter_num, (1,2), strides=(1, 2))(conv_layer1)\n",
    "    conv_layer2 = LeakyReLU(alpha=leaky_relu_alpha)(conv_layer2)\n",
    "    print(conv_layer2.shape)\n",
    "    conv_layer2 = Conv2D(conv_filter_num, (4,1), padding='same')(conv_layer2)\n",
    "    conv_layer2 = LeakyReLU(alpha=leaky_relu_alpha)(conv_layer2)\n",
    "    print(conv_layer2.shape)\n",
    "    conv_layer2 = Conv2D(conv_filter_num, (4,1), padding='same')(conv_layer2)\n",
    "    conv_layer2 = LeakyReLU(alpha=leaky_relu_alpha)(conv_layer2)\n",
    "    print(conv_layer2.shape)\n",
    "\n",
    "    # dilated conv 1 & 2\n",
    "    dilated_conv1 = Conv2D(conv_filter_num, (1, 20), dilation_rate=2, strides=(1, 1))(input_tensor)\n",
    "    dilated_conv1 = LeakyReLU(alpha=leaky_relu_alpha)(dilated_conv1)\n",
    "    print(dilated_conv1.shape)\n",
    "    dilated_conv1 = Conv2D(conv_filter_num, (4,1), padding='same')(dilated_conv1)\n",
    "    dilated_conv1 = LeakyReLU(alpha=leaky_relu_alpha)(dilated_conv1)\n",
    "    print(dilated_conv1.shape)\n",
    "\n",
    "    dilated_conv2 = Conv2D(conv_filter_num, (1, 10), dilation_rate=4, strides=(1, 1))(input_tensor)\n",
    "    dilated_conv2 = LeakyReLU(alpha=leaky_relu_alpha)(dilated_conv2)\n",
    "    print(dilated_conv2.shape)\n",
    "    dilated_conv2 = Conv2D(conv_filter_num, (4,1), padding='same')(dilated_conv2)\n",
    "    dilated_conv2 = LeakyReLU(alpha=leaky_relu_alpha)(dilated_conv2)\n",
    "    print(dilated_conv2.shape)\n",
    "    \n",
    "    # concate\n",
    "    conv_layer2 = concatenate([conv_layer2, dilated_conv1, dilated_conv2], axis=2)\n",
    "    \n",
    "    # Conv block3\n",
    "    conv_layer3 = Conv2D(conv_filter_num, (1,10+2+4))(conv_layer2)\n",
    "    conv_layer3 = LeakyReLU(alpha=leaky_relu_alpha)(conv_layer3)\n",
    "    print(conv_layer3.shape)\n",
    "    conv_layer3 = Conv2D(conv_filter_num, (4,1), padding='same')(conv_layer3)\n",
    "    conv_layer3 = LeakyReLU(alpha=leaky_relu_alpha)(conv_layer3)\n",
    "    print(conv_layer3.shape)\n",
    "    conv_layer3 = Conv2D(conv_filter_num, (4,1), padding='same')(conv_layer3)\n",
    "    conv_layer3 = LeakyReLU(alpha=leaky_relu_alpha)(conv_layer3)\n",
    "    print(conv_layer3.shape)\n",
    "    \n",
    "    # Inception module\n",
    "    inception_module1 = Conv2D(inception_num, (1,1), padding='same')(conv_layer3)\n",
    "    inception_module1 = LeakyReLU(alpha=leaky_relu_alpha)(inception_module1)\n",
    "    print(inception_module1.shape)\n",
    "    inception_module1 = Conv2D(inception_num, (3,1), padding='same')(inception_module1)\n",
    "    inception_module1 = LeakyReLU(alpha=leaky_relu_alpha)(inception_module1)\n",
    "    print(inception_module1.shape)\n",
    "\n",
    "    inception_module2 = Conv2D(inception_num, (1,1), padding='same')(conv_layer3)\n",
    "    inception_module2 = LeakyReLU(alpha=leaky_relu_alpha)(inception_module2)\n",
    "    print(inception_module2.shape)\n",
    "    inception_module2 = Conv2D(inception_num, (5,1), padding='same')(inception_module2)\n",
    "    inception_module2 = LeakyReLU(alpha=leaky_relu_alpha)(inception_module2)\n",
    "    print(inception_module2.shape)\n",
    "\n",
    "    inception_module3 = MaxPooling2D((3,1), strides=(1,1), padding='same')(conv_layer3)\n",
    "    print(inception_module3.shape)\n",
    "    inception_module3 = Conv2D(inception_num, (1,1), padding='same')(inception_module3)\n",
    "    print(inception_module3.shape)\n",
    "    inception_module3 = LeakyReLU(alpha=leaky_relu_alpha)(inception_module3)\n",
    "    print(inception_module3.shape)\n",
    "    \n",
    "    inception_module_final = concatenate([inception_module1, inception_module2, inception_module3], axis=3)\n",
    "    print(inception_module_final.shape)\n",
    "    inception_module_final = Reshape((inception_module_final.shape[1], inception_module_final.shape[3]))(inception_module_final)\n",
    "    print(inception_module_final.shape)\n",
    "\n",
    "    # LSTM\n",
    "    LSTM_output = LSTM(LSTM_num)(inception_module_final)\n",
    "    print(LSTM_output.shape)\n",
    "\n",
    "    # Fully Connected Layer with softmax activation function for output\n",
    "    model_output = Dense(3, activation='softmax')(LSTM_output)\n",
    "    print(model_output.shape)\n",
    "    \n",
    "    \n",
    "#     # Transformer\n",
    "#     transformer_output = Encoder(num_layers=6,heads=8,model_dim=96,drop_rate=0.1,units_dim=32,epsilon=0.001)(inception_module_final)\n",
    "#     transformer_output = GlobalAveragePooling1D()(transformer_output)\n",
    "#     print(transformer_output.shape)\n",
    "#     # Fully Connected Layer with softmax activation function for output\n",
    "#     model_output = Dense(3, activation='softmax')(transformer_output)\n",
    "#     print(model_output.shape)\n",
    "    \n",
    "    \n",
    "    DeepLOB_model = Model(inputs=input_tensor, outputs= model_output)  \n",
    "    \n",
    "    DeepLOB_model.compile(optimizer=optimizer, loss=loss, metrics=metrics)\n",
    "\n",
    "    return DeepLOB_model\n"
   ]
  },
  {
   "cell_type": "code",
   "execution_count": 19,
   "metadata": {},
   "outputs": [
    {
     "name": "stdout",
     "output_type": "stream",
     "text": [
      "(None, 100, 40, 1)\n",
      "(None, 100, 20, 16)\n",
      "(None, 100, 20, 16)\n",
      "(None, 100, 20, 16)\n",
      "(None, 100, 20, 16)\n",
      "(None, 100, 10, 16)\n",
      "(None, 100, 10, 16)\n",
      "(None, 100, 10, 16)\n",
      "(None, 100, 2, 16)\n",
      "(None, 100, 2, 16)\n",
      "(None, 100, 4, 16)\n",
      "(None, 100, 4, 16)\n",
      "(None, 100, 1, 16)\n",
      "(None, 100, 1, 16)\n",
      "(None, 100, 1, 16)\n",
      "(None, 100, 1, 32)\n",
      "(None, 100, 1, 32)\n",
      "(None, 100, 1, 32)\n",
      "(None, 100, 1, 32)\n",
      "(None, 100, 1, 16)\n",
      "(None, 100, 1, 32)\n",
      "(None, 100, 1, 32)\n",
      "(None, 100, 1, 96)\n",
      "(None, 100, 96)\n",
      "(None, 64)\n",
      "(None, 3)\n"
     ]
    }
   ],
   "source": [
    "DeepLOB_model = initiate_DeepLOB_model(lookback_timestep, feature_num, conv_filter_num, inception_num, LSTM_num, leaky_relu_alpha,\n",
    "                          loss, optimizer, metrics)"
   ]
  },
  {
   "cell_type": "code",
   "execution_count": 20,
   "metadata": {},
   "outputs": [
    {
     "name": "stdout",
     "output_type": "stream",
     "text": [
      "Model: \"model_1\"\n",
      "__________________________________________________________________________________________________\n",
      "Layer (type)                    Output Shape         Param #     Connected to                     \n",
      "==================================================================================================\n",
      "input_2 (InputLayer)            [(None, 100, 40, 1)] 0                                            \n",
      "__________________________________________________________________________________________________\n",
      "conv2d_18 (Conv2D)              (None, 100, 20, 16)  48          input_2[0][0]                    \n",
      "__________________________________________________________________________________________________\n",
      "leaky_re_lu_18 (LeakyReLU)      (None, 100, 20, 16)  0           conv2d_18[0][0]                  \n",
      "__________________________________________________________________________________________________\n",
      "conv2d_19 (Conv2D)              (None, 100, 20, 16)  1040        leaky_re_lu_18[0][0]             \n",
      "__________________________________________________________________________________________________\n",
      "conv2d_20 (Conv2D)              (None, 100, 20, 16)  1040        conv2d_19[0][0]                  \n",
      "__________________________________________________________________________________________________\n",
      "leaky_re_lu_20 (LeakyReLU)      (None, 100, 20, 16)  0           conv2d_20[0][0]                  \n",
      "__________________________________________________________________________________________________\n",
      "conv2d_21 (Conv2D)              (None, 100, 10, 16)  528         leaky_re_lu_20[0][0]             \n",
      "__________________________________________________________________________________________________\n",
      "leaky_re_lu_21 (LeakyReLU)      (None, 100, 10, 16)  0           conv2d_21[0][0]                  \n",
      "__________________________________________________________________________________________________\n",
      "conv2d_22 (Conv2D)              (None, 100, 10, 16)  1040        leaky_re_lu_21[0][0]             \n",
      "__________________________________________________________________________________________________\n",
      "conv2d_24 (Conv2D)              (None, 100, 2, 16)   336         input_2[0][0]                    \n",
      "__________________________________________________________________________________________________\n",
      "conv2d_26 (Conv2D)              (None, 100, 4, 16)   176         input_2[0][0]                    \n",
      "__________________________________________________________________________________________________\n",
      "leaky_re_lu_22 (LeakyReLU)      (None, 100, 10, 16)  0           conv2d_22[0][0]                  \n",
      "__________________________________________________________________________________________________\n",
      "leaky_re_lu_24 (LeakyReLU)      (None, 100, 2, 16)   0           conv2d_24[0][0]                  \n",
      "__________________________________________________________________________________________________\n",
      "leaky_re_lu_26 (LeakyReLU)      (None, 100, 4, 16)   0           conv2d_26[0][0]                  \n",
      "__________________________________________________________________________________________________\n",
      "conv2d_23 (Conv2D)              (None, 100, 10, 16)  1040        leaky_re_lu_22[0][0]             \n",
      "__________________________________________________________________________________________________\n",
      "conv2d_25 (Conv2D)              (None, 100, 2, 16)   1040        leaky_re_lu_24[0][0]             \n",
      "__________________________________________________________________________________________________\n",
      "conv2d_27 (Conv2D)              (None, 100, 4, 16)   1040        leaky_re_lu_26[0][0]             \n",
      "__________________________________________________________________________________________________\n",
      "leaky_re_lu_23 (LeakyReLU)      (None, 100, 10, 16)  0           conv2d_23[0][0]                  \n",
      "__________________________________________________________________________________________________\n",
      "leaky_re_lu_25 (LeakyReLU)      (None, 100, 2, 16)   0           conv2d_25[0][0]                  \n",
      "__________________________________________________________________________________________________\n",
      "leaky_re_lu_27 (LeakyReLU)      (None, 100, 4, 16)   0           conv2d_27[0][0]                  \n",
      "__________________________________________________________________________________________________\n",
      "concatenate_2 (Concatenate)     (None, 100, 16, 16)  0           leaky_re_lu_23[0][0]             \n",
      "                                                                 leaky_re_lu_25[0][0]             \n",
      "                                                                 leaky_re_lu_27[0][0]             \n",
      "__________________________________________________________________________________________________\n",
      "conv2d_28 (Conv2D)              (None, 100, 1, 16)   4112        concatenate_2[0][0]              \n",
      "__________________________________________________________________________________________________\n",
      "leaky_re_lu_28 (LeakyReLU)      (None, 100, 1, 16)   0           conv2d_28[0][0]                  \n",
      "__________________________________________________________________________________________________\n",
      "conv2d_29 (Conv2D)              (None, 100, 1, 16)   1040        leaky_re_lu_28[0][0]             \n",
      "__________________________________________________________________________________________________\n",
      "leaky_re_lu_29 (LeakyReLU)      (None, 100, 1, 16)   0           conv2d_29[0][0]                  \n",
      "__________________________________________________________________________________________________\n",
      "conv2d_30 (Conv2D)              (None, 100, 1, 16)   1040        leaky_re_lu_29[0][0]             \n",
      "__________________________________________________________________________________________________\n",
      "leaky_re_lu_30 (LeakyReLU)      (None, 100, 1, 16)   0           conv2d_30[0][0]                  \n",
      "__________________________________________________________________________________________________\n",
      "conv2d_31 (Conv2D)              (None, 100, 1, 32)   544         leaky_re_lu_30[0][0]             \n",
      "__________________________________________________________________________________________________\n",
      "conv2d_33 (Conv2D)              (None, 100, 1, 32)   544         leaky_re_lu_30[0][0]             \n",
      "__________________________________________________________________________________________________\n",
      "leaky_re_lu_31 (LeakyReLU)      (None, 100, 1, 32)   0           conv2d_31[0][0]                  \n",
      "__________________________________________________________________________________________________\n",
      "leaky_re_lu_33 (LeakyReLU)      (None, 100, 1, 32)   0           conv2d_33[0][0]                  \n",
      "__________________________________________________________________________________________________\n",
      "max_pooling2d_1 (MaxPooling2D)  (None, 100, 1, 16)   0           leaky_re_lu_30[0][0]             \n",
      "__________________________________________________________________________________________________\n",
      "conv2d_32 (Conv2D)              (None, 100, 1, 32)   3104        leaky_re_lu_31[0][0]             \n",
      "__________________________________________________________________________________________________\n",
      "conv2d_34 (Conv2D)              (None, 100, 1, 32)   5152        leaky_re_lu_33[0][0]             \n",
      "__________________________________________________________________________________________________\n",
      "conv2d_35 (Conv2D)              (None, 100, 1, 32)   544         max_pooling2d_1[0][0]            \n",
      "__________________________________________________________________________________________________\n",
      "leaky_re_lu_32 (LeakyReLU)      (None, 100, 1, 32)   0           conv2d_32[0][0]                  \n",
      "__________________________________________________________________________________________________\n",
      "leaky_re_lu_34 (LeakyReLU)      (None, 100, 1, 32)   0           conv2d_34[0][0]                  \n",
      "__________________________________________________________________________________________________\n",
      "leaky_re_lu_35 (LeakyReLU)      (None, 100, 1, 32)   0           conv2d_35[0][0]                  \n",
      "__________________________________________________________________________________________________\n",
      "concatenate_3 (Concatenate)     (None, 100, 1, 96)   0           leaky_re_lu_32[0][0]             \n",
      "                                                                 leaky_re_lu_34[0][0]             \n",
      "                                                                 leaky_re_lu_35[0][0]             \n",
      "__________________________________________________________________________________________________\n",
      "reshape_1 (Reshape)             (None, 100, 96)      0           concatenate_3[0][0]              \n",
      "__________________________________________________________________________________________________\n",
      "lstm_1 (LSTM)                   (None, 64)           41216       reshape_1[0][0]                  \n",
      "__________________________________________________________________________________________________\n",
      "dense_1 (Dense)                 (None, 3)            195         lstm_1[0][0]                     \n",
      "==================================================================================================\n",
      "Total params: 64,819\n",
      "Trainable params: 64,819\n",
      "Non-trainable params: 0\n",
      "__________________________________________________________________________________________________\n"
     ]
    }
   ],
   "source": [
    "DeepLOB_model.summary()"
   ]
  },
  {
   "cell_type": "markdown",
   "metadata": {},
   "source": [
    "# Model Training"
   ]
  },
  {
   "cell_type": "code",
   "execution_count": 21,
   "metadata": {},
   "outputs": [
    {
     "name": "stdout",
     "output_type": "stream",
     "text": [
      "Train on 254651 samples, validate on 139488 samples\n",
      "Epoch 1/200\n",
      "254651/254651 - 152s - loss: 1.0974 - accuracy: 0.3448 - val_loss: 1.0955 - val_accuracy: 0.3607\n",
      "Epoch 2/200\n",
      "254651/254651 - 147s - loss: 1.0933 - accuracy: 0.3617 - val_loss: 1.0910 - val_accuracy: 0.3710\n",
      "Epoch 3/200\n",
      "254651/254651 - 149s - loss: 1.0896 - accuracy: 0.3660 - val_loss: 1.0763 - val_accuracy: 0.4624\n",
      "Epoch 4/200\n",
      "254651/254651 - 148s - loss: 1.0889 - accuracy: 0.3696 - val_loss: 1.1132 - val_accuracy: 0.3726\n",
      "Epoch 5/200\n",
      "254651/254651 - 148s - loss: 1.0881 - accuracy: 0.3718 - val_loss: 1.0874 - val_accuracy: 0.3774\n",
      "Epoch 6/200\n",
      "254651/254651 - 149s - loss: 1.0869 - accuracy: 0.3739 - val_loss: 1.0768 - val_accuracy: 0.4139\n",
      "Epoch 7/200\n",
      "254651/254651 - 148s - loss: 1.0844 - accuracy: 0.3783 - val_loss: 1.0852 - val_accuracy: 0.4031\n",
      "Epoch 8/200\n",
      "254651/254651 - 148s - loss: 1.0801 - accuracy: 0.3831 - val_loss: 1.0937 - val_accuracy: 0.4141\n",
      "Epoch 9/200\n",
      "254651/254651 - 149s - loss: 1.0767 - accuracy: 0.3888 - val_loss: 1.0846 - val_accuracy: 0.4174\n",
      "Epoch 10/200\n",
      "254651/254651 - 148s - loss: 1.0730 - accuracy: 0.3919 - val_loss: 1.0923 - val_accuracy: 0.4268\n",
      "Epoch 11/200\n",
      "254651/254651 - 148s - loss: 1.0687 - accuracy: 0.3963 - val_loss: 1.0880 - val_accuracy: 0.4335\n",
      "Epoch 12/200\n",
      "254651/254651 - 148s - loss: 1.0643 - accuracy: 0.3983 - val_loss: 1.0749 - val_accuracy: 0.4413\n",
      "Epoch 13/200\n",
      "254651/254651 - 147s - loss: 1.0563 - accuracy: 0.4074 - val_loss: 1.0848 - val_accuracy: 0.4072\n",
      "Epoch 14/200\n",
      "254651/254651 - 147s - loss: 1.0441 - accuracy: 0.4224 - val_loss: 1.0225 - val_accuracy: 0.4772\n",
      "Epoch 15/200\n",
      "254651/254651 - 147s - loss: 1.0259 - accuracy: 0.4396 - val_loss: 0.9717 - val_accuracy: 0.5166\n",
      "Epoch 16/200\n",
      "254651/254651 - 147s - loss: 0.9947 - accuracy: 0.4621 - val_loss: 0.9213 - val_accuracy: 0.5469\n",
      "Epoch 17/200\n",
      "254651/254651 - 146s - loss: 0.9616 - accuracy: 0.4829 - val_loss: 0.8849 - val_accuracy: 0.5634\n",
      "Epoch 18/200\n",
      "254651/254651 - 149s - loss: 0.9371 - accuracy: 0.4958 - val_loss: 0.8400 - val_accuracy: 0.5830\n",
      "Epoch 19/200\n",
      "254651/254651 - 147s - loss: 0.9190 - accuracy: 0.5081 - val_loss: 0.8175 - val_accuracy: 0.5921\n",
      "Epoch 20/200\n",
      "254651/254651 - 146s - loss: 0.9034 - accuracy: 0.5193 - val_loss: 0.8441 - val_accuracy: 0.5735\n",
      "Epoch 21/200\n",
      "254651/254651 - 147s - loss: 0.8912 - accuracy: 0.5267 - val_loss: 0.7965 - val_accuracy: 0.6065\n",
      "Epoch 22/200\n",
      "254651/254651 - 147s - loss: 0.8831 - accuracy: 0.5337 - val_loss: 0.8100 - val_accuracy: 0.5949\n",
      "Epoch 23/200\n",
      "254651/254651 - 147s - loss: 0.8745 - accuracy: 0.5418 - val_loss: 0.7974 - val_accuracy: 0.6119\n",
      "Epoch 24/200\n",
      "254651/254651 - 147s - loss: 0.8656 - accuracy: 0.5544 - val_loss: 0.7737 - val_accuracy: 0.6296\n",
      "Epoch 25/200\n",
      "254651/254651 - 147s - loss: 0.8459 - accuracy: 0.5853 - val_loss: 0.7518 - val_accuracy: 0.6646\n",
      "Epoch 26/200\n",
      "254651/254651 - 148s - loss: 0.8078 - accuracy: 0.6257 - val_loss: 0.7166 - val_accuracy: 0.6903\n",
      "Epoch 27/200\n",
      "254651/254651 - 148s - loss: 0.7631 - accuracy: 0.6584 - val_loss: 0.6967 - val_accuracy: 0.7043\n",
      "Epoch 28/200\n",
      "254651/254651 - 146s - loss: 0.7291 - accuracy: 0.6808 - val_loss: 0.6545 - val_accuracy: 0.7287\n",
      "Epoch 29/200\n",
      "254651/254651 - 147s - loss: 0.7084 - accuracy: 0.6941 - val_loss: 0.6396 - val_accuracy: 0.7415\n",
      "Epoch 30/200\n",
      "254651/254651 - 147s - loss: 0.6928 - accuracy: 0.7039 - val_loss: 0.6378 - val_accuracy: 0.7393\n",
      "Epoch 31/200\n",
      "254651/254651 - 148s - loss: 0.6798 - accuracy: 0.7115 - val_loss: 0.6281 - val_accuracy: 0.7462\n",
      "Epoch 32/200\n",
      "254651/254651 - 148s - loss: 0.6684 - accuracy: 0.7176 - val_loss: 0.6212 - val_accuracy: 0.7479\n",
      "Epoch 33/200\n",
      "254651/254651 - 147s - loss: 0.6589 - accuracy: 0.7232 - val_loss: 0.6017 - val_accuracy: 0.7590\n",
      "Epoch 34/200\n",
      "254651/254651 - 147s - loss: 0.6509 - accuracy: 0.7264 - val_loss: 0.6220 - val_accuracy: 0.7461\n",
      "Epoch 35/200\n",
      "254651/254651 - 148s - loss: 0.6430 - accuracy: 0.7309 - val_loss: 0.6106 - val_accuracy: 0.7554\n",
      "Epoch 36/200\n",
      "254651/254651 - 147s - loss: 0.6373 - accuracy: 0.7338 - val_loss: 0.6210 - val_accuracy: 0.7493\n",
      "Epoch 37/200\n",
      "254651/254651 - 148s - loss: 0.6325 - accuracy: 0.7359 - val_loss: 0.5949 - val_accuracy: 0.7607\n",
      "Epoch 38/200\n",
      "254651/254651 - 147s - loss: 0.6271 - accuracy: 0.7395 - val_loss: 0.5947 - val_accuracy: 0.7614\n",
      "Epoch 39/200\n",
      "254651/254651 - 148s - loss: 0.6218 - accuracy: 0.7423 - val_loss: 0.6162 - val_accuracy: 0.7491\n",
      "Epoch 40/200\n",
      "254651/254651 - 147s - loss: 0.6184 - accuracy: 0.7430 - val_loss: 0.5925 - val_accuracy: 0.7628\n",
      "Epoch 41/200\n",
      "254651/254651 - 147s - loss: 0.6138 - accuracy: 0.7456 - val_loss: 0.5887 - val_accuracy: 0.7667\n",
      "Epoch 42/200\n",
      "254651/254651 - 148s - loss: 0.6102 - accuracy: 0.7472 - val_loss: 0.5830 - val_accuracy: 0.7679\n",
      "Epoch 43/200\n",
      "254651/254651 - 147s - loss: 0.6060 - accuracy: 0.7506 - val_loss: 0.5910 - val_accuracy: 0.7627\n",
      "Epoch 44/200\n",
      "254651/254651 - 147s - loss: 0.6034 - accuracy: 0.7512 - val_loss: 0.6036 - val_accuracy: 0.7566\n",
      "Epoch 45/200\n",
      "254651/254651 - 148s - loss: 0.5996 - accuracy: 0.7529 - val_loss: 0.5757 - val_accuracy: 0.7742\n",
      "Epoch 46/200\n",
      "254651/254651 - 147s - loss: 0.5960 - accuracy: 0.7548 - val_loss: 0.6076 - val_accuracy: 0.7555\n",
      "Epoch 47/200\n",
      "254651/254651 - 147s - loss: 0.5930 - accuracy: 0.7559 - val_loss: 0.5845 - val_accuracy: 0.7688\n",
      "Epoch 48/200\n",
      "254651/254651 - 148s - loss: 0.5903 - accuracy: 0.7573 - val_loss: 0.5830 - val_accuracy: 0.7714\n",
      "Epoch 49/200\n",
      "254651/254651 - 147s - loss: 0.5881 - accuracy: 0.7580 - val_loss: 0.5780 - val_accuracy: 0.7736\n",
      "Epoch 50/200\n",
      "254651/254651 - 147s - loss: 0.5845 - accuracy: 0.7604 - val_loss: 0.5776 - val_accuracy: 0.7738\n",
      "Epoch 51/200\n",
      "254651/254651 - 147s - loss: 0.5825 - accuracy: 0.7615 - val_loss: 0.5867 - val_accuracy: 0.7669\n",
      "Epoch 52/200\n",
      "254651/254651 - 146s - loss: 0.5802 - accuracy: 0.7622 - val_loss: 0.6026 - val_accuracy: 0.7571\n",
      "Epoch 53/200\n",
      "254651/254651 - 147s - loss: 0.5773 - accuracy: 0.7636 - val_loss: 0.6033 - val_accuracy: 0.7612\n",
      "Epoch 54/200\n",
      "254651/254651 - 147s - loss: 0.5748 - accuracy: 0.7644 - val_loss: 0.5798 - val_accuracy: 0.7735\n",
      "Epoch 55/200\n",
      "254651/254651 - 147s - loss: 0.5731 - accuracy: 0.7659 - val_loss: 0.5792 - val_accuracy: 0.7727\n",
      "Epoch 56/200\n",
      "254651/254651 - 147s - loss: 0.5709 - accuracy: 0.7668 - val_loss: 0.5814 - val_accuracy: 0.7720\n",
      "Epoch 57/200\n",
      "254651/254651 - 147s - loss: 0.5676 - accuracy: 0.7678 - val_loss: 0.5890 - val_accuracy: 0.7649\n",
      "Epoch 58/200\n",
      "254651/254651 - 147s - loss: 0.5652 - accuracy: 0.7687 - val_loss: 0.5868 - val_accuracy: 0.7690\n",
      "Epoch 59/200\n",
      "254651/254651 - 147s - loss: 0.5635 - accuracy: 0.7698 - val_loss: 0.5799 - val_accuracy: 0.7732\n",
      "Epoch 60/200\n",
      "254651/254651 - 148s - loss: 0.5603 - accuracy: 0.7716 - val_loss: 0.5828 - val_accuracy: 0.7726\n",
      "Epoch 61/200\n",
      "254651/254651 - 148s - loss: 0.5584 - accuracy: 0.7726 - val_loss: 0.5769 - val_accuracy: 0.7739\n",
      "Epoch 62/200\n",
      "254651/254651 - 147s - loss: 0.5564 - accuracy: 0.7730 - val_loss: 0.5910 - val_accuracy: 0.7671\n",
      "Epoch 63/200\n",
      "254651/254651 - 149s - loss: 0.5535 - accuracy: 0.7751 - val_loss: 0.5997 - val_accuracy: 0.7628\n",
      "Epoch 64/200\n",
      "254651/254651 - 148s - loss: 0.5519 - accuracy: 0.7756 - val_loss: 0.5966 - val_accuracy: 0.7664\n",
      "Epoch 65/200\n",
      "254651/254651 - 147s - loss: 0.5497 - accuracy: 0.7768 - val_loss: 0.6008 - val_accuracy: 0.7641\n",
      "Epoch 00065: early stopping\n"
     ]
    },
    {
     "data": {
      "text/plain": [
       "<tensorflow.python.keras.callbacks.History at 0x1aefd175d68>"
      ]
     },
     "execution_count": 21,
     "metadata": {},
     "output_type": "execute_result"
    }
   ],
   "source": [
    "es = EarlyStopping(monitor='val_accuracy', mode='max', patience = stop_epoch_num, verbose=1)\n",
    "DeepLOB_model.fit(train_fi_x, train_fi_y, epochs=num_epoch, batch_size=batch_size, verbose=2, validation_data=(test_fi_x, test_fi_y), callbacks = [es])"
   ]
  },
  {
   "cell_type": "markdown",
   "metadata": {},
   "source": [
    "## Visualizations"
   ]
  },
  {
   "cell_type": "code",
   "execution_count": 22,
   "metadata": {},
   "outputs": [],
   "source": [
    "file1 = open('../outputs/FI-2010-training-process_dilated_conv.txt', 'r')\n",
    "fi_lines = file1.readlines()\n",
    "loss_value_list = []\n",
    "accuracy_value_list = []\n",
    "val_loss_value_list = []\n",
    "val_accuracy_value_list = []\n",
    "for i in range(len(fi_lines)):\n",
    "    line = fi_lines[i]\n",
    "    str_list = np.array(line.split(' '))\n",
    "    if i % 2 == 1:\n",
    "        loss_i = np.where(str_list == 'loss:')[0][0]\n",
    "        loss_value = float(str_list[loss_i + 1])\n",
    "        accuracy_i = np.where(str_list == 'accuracy:')[0][0]\n",
    "        accuracy_value = float(str_list[accuracy_i + 1])\n",
    "        val_loss_i = np.where(str_list == 'val_loss:')[0][0]\n",
    "        val_loss_value = float(str_list[val_loss_i + 1])\n",
    "        val_accuracy_i = np.where(str_list == 'val_accuracy:')[0][0]\n",
    "        val_accuracy_value = float(str_list[val_accuracy_i + 1])\n",
    "\n",
    "        loss_value_list.append(loss_value)\n",
    "        accuracy_value_list.append(accuracy_value)\n",
    "        val_loss_value_list.append(val_loss_value)\n",
    "        val_accuracy_value_list.append(val_accuracy_value)\n",
    "epoch_list = list(range(1,len(loss_value_list)+1))"
   ]
  },
  {
   "cell_type": "code",
   "execution_count": 23,
   "metadata": {},
   "outputs": [
    {
     "data": {
      "image/png": "[encoded data removed]",
      "text/plain": [
       "<Figure size 432x288 with 1 Axes>"
      ]
     },
     "metadata": {
      "needs_background": "light"
     },
     "output_type": "display_data"
    }
   ],
   "source": [
    "# multiple line plots\n",
    "plt.plot(epoch_list, loss_value_list, color='skyblue', linewidth=2)\n",
    "plt.plot(epoch_list, val_loss_value_list, color='green', linewidth=2)\n",
    "\n",
    "plt.xlabel('Epoch')\n",
    "plt.ylabel('Loss')\n",
    "plt.title('Loss vs Epoch Graph')\n",
    "plt.legend(['Training Loss', 'Validation Loss'])\n",
    "\n",
    "plt.savefig('../outputs/dilated_FI-2010 Loss Graph.png')\n",
    "plt.show()"
   ]
  },
  {
   "cell_type": "code",
   "execution_count": 24,
   "metadata": {},
   "outputs": [
    {
     "data": {
      "image/png": "[encoded data removed]",
      "text/plain": [
       "<Figure size 432x288 with 1 Axes>"
      ]
     },
     "metadata": {
      "needs_background": "light"
     },
     "output_type": "display_data"
    }
   ],
   "source": [
    "# multiple line plots\n",
    "plt.plot(epoch_list, accuracy_value_list, color='skyblue', linewidth=2)\n",
    "plt.plot(epoch_list, val_accuracy_value_list, color='green', linewidth=2)\n",
    "\n",
    "plt.xlabel('Epoch')\n",
    "plt.ylabel('Accuracy')\n",
    "plt.title('Accuracy vs Epoch Graph')\n",
    "plt.legend(['Training Accuracy', 'Validation Accuracy'])\n",
    "\n",
    "plt.savefig('../outputs/dilated_FI-2010 Accuracy Graph.png')\n",
    "plt.show()"
   ]
  },
  {
   "cell_type": "code",
   "execution_count": null,
   "metadata": {},
   "outputs": [],
   "source": []
  }
 ],
 "metadata": {
  "kernelspec": {
   "display_name": "Python 3",
   "language": "python",
   "name": "python3"
  },
  "language_info": {
   "codemirror_mode": {
    "name": "ipython",
    "version": 3
   },
   "file_extension": ".py",
   "mimetype": "text/x-python",
   "name": "python",
   "nbconvert_exporter": "python",
   "pygments_lexer": "ipython3",
   "version": "3.6.11"
  },
  "varInspector": {
   "cols": {
    "lenName": 16,
    "lenType": 16,
    "lenVar": 40
   },
   "kernels_config": {
    "python": {
     "delete_cmd_postfix": "",
     "delete_cmd_prefix": "del ",
     "library": "var_list.py",
     "varRefreshCmd": "print(var_dic_list())"
    },
    "r": {
     "delete_cmd_postfix": ") ",
     "delete_cmd_prefix": "rm(",
     "library": "var_list.r",
     "varRefreshCmd": "cat(var_dic_list()) "
    }
   },
   "types_to_exclude": [
    "module",
    "function",
    "builtin_function_or_method",
    "instance",
    "_Feature"
   ],
   "window_display": false
  }
 },
 "nbformat": 4,
 "nbformat_minor": 2
}
